{
 "cells": [
  {
   "cell_type": "code",
   "execution_count": 1,
   "metadata": {},
   "outputs": [
    {
     "name": "stdout",
     "output_type": "stream",
     "text": [
      "Enter your first subject number 50\n",
      "Enter your second subject number 79\n",
      "Enter your third subject number 85\n",
      "Enter your forth subject number 90\n",
      "Enter your fifth subject number 85\n",
      "Grade: C\n"
     ]
    }
   ],
   "source": [
    "# Write a program which takes 5 inputs from user for different subject’s marks, total \n",
    "# it and generate mark sheet using grades ?\n",
    "sub1=int(input(\"Enter your first subject number \"))\n",
    "sub2=int(input(\"Enter your second subject number \"))\n",
    "sub3=int(input(\"Enter your third subject number \"))\n",
    "sub4=int(input(\"Enter your forth subject number \"))\n",
    "sub5=int(input(\"Enter your fifth subject number \"))\n",
    "average=(sub1+sub2+sub3+sub4+sub5)/5\n",
    "if(average>=90):\n",
    "    print(\"Grade: A\")\n",
    "elif(average>=80):\n",
    "    print(\"Grade: B\")\n",
    "elif(average>=70):\n",
    "    print(\"Grade: C\")\n",
    "elif(average>=60):\n",
    "    print(\"Grade: D\")\n",
    "elif(average>=50):\n",
    "    print(\"Grade: E\")\n",
    "elif(average>=40):\n",
    "    print(\"Grade: F\")\n",
    "elif(average>=30):\n",
    "    print(\"FAIL\")"
   ]
  },
  {
   "cell_type": "code",
   "execution_count": 3,
   "metadata": {},
   "outputs": [
    {
     "name": "stdout",
     "output_type": "stream",
     "text": [
      "Enter your number 2\n",
      "2  is Even\n"
     ]
    }
   ],
   "source": [
    "# Write a program which take input from user and identify that the given number is even or odd?\n",
    "x=int(input(\"Enter your number \"))\n",
    "if x%2==0:\n",
    "    print(x,\" is Even\")\n",
    "else:\n",
    "    print(x,\" is Odd\")"
   ]
  },
  {
   "cell_type": "code",
   "execution_count": 4,
   "metadata": {},
   "outputs": [
    {
     "name": "stdout",
     "output_type": "stream",
     "text": [
      "The length of list is:  6\n"
     ]
    }
   ],
   "source": [
    "# Write a program which print the length of the list?\n",
    "a = [] \n",
    "a.append(\"Hassan\") \n",
    "a.append(\"Mujtaba\") \n",
    "a.append(\"Kamran\") \n",
    "a.append(\"Ali\") \n",
    "a.append(\"Karachi\")\n",
    "a.append(\"Pakistan\")\n",
    "print(\"The length of list is: \", len(a)) \n",
    "        "
   ]
  },
  {
   "cell_type": "code",
   "execution_count": 5,
   "metadata": {},
   "outputs": [
    {
     "name": "stdout",
     "output_type": "stream",
     "text": [
      "How many numbers: 10\n",
      "Enter number 10\n",
      "Enter number 10\n",
      "Enter number 10\n",
      "Enter number 10\n",
      "Enter number 10\n",
      "Enter number 10\n",
      "Enter number 10\n",
      "Enter number 10\n",
      "Enter number 10\n",
      "Enter number 10\n",
      "Sum of elements in given list is : 100\n"
     ]
    }
   ],
   "source": [
    "# Write a Python program to sum all the numeric items in a list?\n",
    "lst = []\n",
    "num = int(input('How many numbers: '))\n",
    "for n in range(num):\n",
    "    numbers = int(input('Enter number '))\n",
    "    lst.append(numbers)\n",
    "print(\"Sum of elements in given list is :\", sum(lst))"
   ]
  },
  {
   "cell_type": "code",
   "execution_count": 6,
   "metadata": {},
   "outputs": [
    {
     "name": "stdout",
     "output_type": "stream",
     "text": [
      "How many numbers: 2\n",
      "Enter number 10\n",
      "Enter number 5\n",
      "Maximum element in the list is : 10 \n",
      "Minimum element in the list is : 5\n"
     ]
    }
   ],
   "source": [
    "# Write a Python program to get the largest number from a numeric list?\n",
    "lst = []\n",
    "num = int(input('How many numbers: '))\n",
    "for n in range(num):\n",
    "    numbers = int(input('Enter number '))\n",
    "    lst.append(numbers)\n",
    "print(\"Maximum element in the list is :\", max(lst), \"\\nMinimum element in the list is :\", min(lst))"
   ]
  },
  {
   "cell_type": "code",
   "execution_count": 16,
   "metadata": {},
   "outputs": [
    {
     "name": "stdout",
     "output_type": "stream",
     "text": [
      "1\n",
      "1\n",
      "2\n",
      "3\n",
      "4\n"
     ]
    }
   ],
   "source": [
    "# write a program that prints out all the elements of the list that are less than 5.\n",
    "a = [1, 1, 2, 3, 4, 5, 8, 13, 21, 34, 55, 89]\n",
    "\n",
    "for i in a:\n",
    "\n",
    "    if i < 5:\n",
    "\n",
    "        print(i)"
   ]
  }
 ],
 "metadata": {
  "kernelspec": {
   "display_name": "Python 3",
   "language": "python",
   "name": "python3"
  },
  "language_info": {
   "codemirror_mode": {
    "name": "ipython",
    "version": 3
   },
   "file_extension": ".py",
   "mimetype": "text/x-python",
   "name": "python",
   "nbconvert_exporter": "python",
   "pygments_lexer": "ipython3",
   "version": "3.7.4"
  }
 },
 "nbformat": 4,
 "nbformat_minor": 2
}
