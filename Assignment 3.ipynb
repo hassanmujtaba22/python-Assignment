{
 "cells": [
  {
   "cell_type": "code",
   "execution_count": 21,
   "metadata": {},
   "outputs": [
    {
     "name": "stdout",
     "output_type": "stream",
     "text": [
      "Enter Operator +, -, /, *, **: -\n",
      "Enter your first value: 10\n",
      "Enter your second value: 5\n",
      "10 - 5 = 5\n"
     ]
    }
   ],
   "source": [
    "# Make a calculator using Python with addition , subtraction , multiplication , division and power.\n",
    "\n",
    "operator = input(\"Enter Operator +, -, /, *, **: \");\n",
    "val1 = int(input(\"Enter your first value: \"));\n",
    "val2 = int(input(\"Enter your second value: \"));\n",
    "if operator == \"+\":\n",
    "    val = val1 + val2\n",
    "    print(val1, \"+\", val2, \"=\", val)\n",
    "elif operator == \"-\":\n",
    "    val = val1 - val2\n",
    "    print(val1, \"-\", val2, \"=\", val)\n",
    "elif operator == \"/\":\n",
    "    val = val1 / val2\n",
    "    print(val1, \"/\", val2, \"=\", val)\n",
    "elif operator == \"*\":\n",
    "    val = val1 * val2\n",
    "    print(val1, \"*\", val2, \"=\", val)\n",
    "elif operator == \"**\":\n",
    "    val = val1 ** val2\n",
    "    print(val1, \"**\", val2, \"=\", val)\n",
    "else:\n",
    "    print(\"Enter Correct Operator\")"
   ]
  },
  {
   "cell_type": "code",
   "execution_count": 22,
   "metadata": {},
   "outputs": [
    {
     "name": "stdout",
     "output_type": "stream",
     "text": [
      "Enter number: 2\n",
      "Checking........\n",
      "This isn't exist in the list\n",
      "This is exist in the list\n"
     ]
    }
   ],
   "source": [
    "# . Write a program to check if there is any numeric value in list using for loop\n",
    "\n",
    "list_ = [1, 2, 3, 4, 5, 6];\n",
    "num = int(input(\"Enter number: \"));\n",
    "print(\"Checking........\")\n",
    "for number in list_:\n",
    "    if num == number:\n",
    "        print (\"This is exist in the list\")\n",
    "        break\n",
    "    else:\n",
    "        print (\"This isn't exist in the list\")"
   ]
  },
  {
   "cell_type": "code",
   "execution_count": 23,
   "metadata": {},
   "outputs": [
    {
     "name": "stdout",
     "output_type": "stream",
     "text": [
      "Name Hassan Mujtaba\n",
      "Age 19\n",
      "Gender Male\n",
      "Group Pre-Eng\n",
      "Enter your Value: 0300-0000000000\n",
      "Enter your key: Phone\n",
      "{'Name': 'Hassan Mujtaba', 'Age': '19', 'Gender': 'Male', 'Group': 'Pre-Eng', 'Phone': '0300-0000000000'}\n",
      "Name Hassan Mujtaba\n",
      "Age 19\n",
      "Gender Male\n",
      "Group Pre-Eng\n",
      "Phone 0300-0000000000\n"
     ]
    }
   ],
   "source": [
    "# Write a Python script to add a key to a dictionary.\n",
    "\n",
    "std = {\"Name\": \"Hassan Mujtaba\", \"Age\": \"19\", \"Gender\": \"Male\", \"Group\": \"Pre-Eng\"}\n",
    "# print (std)\n",
    "# print (len(std))\n",
    "for key, value in std.items():\n",
    "    print(key, value)\n",
    "std[input(\"Enter your key: \")] = input(\"Enter your Value: \")\n",
    "print (std)\n",
    "for key, value in std.items():\n",
    "    print(key, value)"
   ]
  },
  {
   "cell_type": "code",
   "execution_count": 24,
   "metadata": {},
   "outputs": [
    {
     "name": "stdout",
     "output_type": "stream",
     "text": [
      "{'Hassan Mujtaba': 55, 'Kabeer': 45, 'Mustaqeem': 60}\n",
      "Total Attendance is: 160\n"
     ]
    }
   ],
   "source": [
    "# Write a Python program to sum all the numeric items in a dictionary.\n",
    "\n",
    "std_att = {\"Hassan Mujtaba\": 55, \"Kabeer\": 45, \"Mustaqeem\": 60}\n",
    "print(std_att)\n",
    "tot=sum(std_att.values())\n",
    "\n",
    "print(\"Total Attendance is:\", tot)"
   ]
  },
  {
   "cell_type": "code",
   "execution_count": 25,
   "metadata": {},
   "outputs": [
    {
     "name": "stdout",
     "output_type": "stream",
     "text": [
      "[20, 30, 60]\n"
     ]
    }
   ],
   "source": [
    "# Write a program to identify duplicate values from list\n",
    "\n",
    "def Repeat(x): \n",
    "    _size = len(x) \n",
    "    repeated = [] \n",
    "    for i in range(_size): \n",
    "        k = i + 1\n",
    "        for j in range(k, _size): \n",
    "            if x[i] == x[j] and x[i] not in repeated: \n",
    "                repeated.append(x[i]) \n",
    "    return repeated \n",
    " \n",
    "list1 = [10, 20, 30, 20, 20, 30, 40, 50, -20, 60, 60, 20, 20] \n",
    "print (Repeat(list1))"
   ]
  },
  {
   "cell_type": "code",
   "execution_count": 33,
   "metadata": {},
   "outputs": [
    {
     "name": "stdout",
     "output_type": "stream",
     "text": [
      "Key is present in the dictionary\n",
      "Key is not present in the dictionary\n"
     ]
    }
   ],
   "source": [
    "# Write a Python script to check if a given key already exists in a dictionary \n",
    "\n",
    "d = {1: 10, 2: 20, 3: 30, 4: 40, 5: 50, 6: 60}\n",
    "def is_key_present(x):\n",
    "  if x in d:\n",
    "      print('Key is present in the dictionary')\n",
    "  else:\n",
    "      print('Key is not present in the dictionary')\n",
    "is_key_present(5)\n",
    "is_key_present(9)"
   ]
  }
 ],
 "metadata": {
  "kernelspec": {
   "display_name": "Python 3",
   "language": "python",
   "name": "python3"
  },
  "language_info": {
   "codemirror_mode": {
    "name": "ipython",
    "version": 3
   },
   "file_extension": ".py",
   "mimetype": "text/x-python",
   "name": "python",
   "nbconvert_exporter": "python",
   "pygments_lexer": "ipython3",
   "version": "3.7.4"
  }
 },
 "nbformat": 4,
 "nbformat_minor": 2
}
