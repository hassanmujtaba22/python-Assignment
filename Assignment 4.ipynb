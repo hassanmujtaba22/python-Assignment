{
 "cells": [
  {
   "cell_type": "code",
   "execution_count": 5,
   "metadata": {},
   "outputs": [
    {
     "name": "stdout",
     "output_type": "stream",
     "text": [
      "{'first_name': 'Hassan', 'last_name': 'Mujtaba', 'age': 19, 'city': 'Karachi'}\n",
      "{'first_name': 'Hassan', 'last_name': 'Mujtaba', 'age': 19, 'city': 'Karachi', 'Qualification': 'Matric'}\n",
      "{'first_name': 'Hassan', 'last_name': 'Mujtaba', 'age': 19, 'city': 'Karachi', 'Qualification': 'B ed'}\n",
      "{'first_name': 'Hassan', 'last_name': 'Mujtaba', 'age': 19, 'city': 'Karachi'}\n"
     ]
    }
   ],
   "source": [
    "# Question no 1.\n",
    "info = {\n",
    "    \"First_name\": \"Hassan\",\n",
    "    \"Last_name\": \"Mujtaba\",\n",
    "    \"Age\": 19,\n",
    "    \"City\": \"Karachi\"\n",
    "}\n",
    "print (info)\n",
    "info[\"Qualification\"] = \"Matric\"\n",
    "print (info)\n",
    "info[\"Qualification\"] = \"B ed\"\n",
    "print (info)\n",
    "del info [\"Qualification\"]\n",
    "print (info)"
   ]
  },
  {
   "cell_type": "code",
   "execution_count": 21,
   "metadata": {},
   "outputs": [
    {
     "name": "stdout",
     "output_type": "stream",
     "text": [
      "('karachi', {'Country': 'Pakistan', 'Population': '14.91 million', 'Fact': 'It is the Sixth largest city in the world by city population'})\n",
      "('Islamabad', {'Country': 'Pakistan', 'Population': '1.015 million', 'Fact': 'Islamabad is the capital city of Pakistan'})\n",
      "('Punjab', {'Country': 'Pakistan', 'Population': '110,012,442', 'Fact': \"Punjab is Pakistan's most populous province\"})\n",
      "{'Country': 'Pakistan', 'Population': '14.91 million', 'Fact': 'It is the Sixth largest city in the world by city population'}\n"
     ]
    }
   ],
   "source": [
    "# Question no 2.\n",
    "cities = {\n",
    "    \"karachi\": {\n",
    "        \"Country\": \"Pakistan\",\n",
    "        \"Population\": \"14.91 million\",\n",
    "        \"Fact\": \"It is the Sixth largest city in the world by city population\"\n",
    "    },\n",
    "    \"Islamabad\": {\n",
    "        \"Country\": \"Pakistan\",\n",
    "        \"Population\": \"1.015 million\",\n",
    "        \"Fact\": \"Islamabad is the capital city of Pakistan\"\n",
    "    },\n",
    "    \"Punjab\": {\n",
    "        \"Country\": \"Pakistan\",\n",
    "        \"Population\": \"110,012,442\",\n",
    "        \"Fact\": \"Punjab is Pakistan's most populous province\"\n",
    "    }\n",
    "}\n",
    "for city_value in cities.items():\n",
    "    print (city_value)\n",
    "print(cities[\"karachi\"])"
   ]
  },
  {
   "cell_type": "code",
   "execution_count": 13,
   "metadata": {},
   "outputs": [
    {
     "name": "stdout",
     "output_type": "stream",
     "text": [
      "How old are you? 13\n",
      "Your ticket is $15\n"
     ]
    }
   ],
   "source": [
    "# Question no 3.\n",
    "\n",
    "age = int(input(\"How old are you? \"))\n",
    "if age < 3:\n",
    "    print(\"Free\")\n",
    "elif age < 13:\n",
    "    print (\"Your ticket is $10\")\n",
    "else:\n",
    "    print(\"Your ticket is $15\")"
   ]
  },
  {
   "cell_type": "code",
   "execution_count": 18,
   "metadata": {},
   "outputs": [
    {
     "name": "stdout",
     "output_type": "stream",
     "text": [
      "favorite book: The Smart way to learn Python\n",
      "The Smart way to learn Python is one of my favorite books.\n"
     ]
    }
   ],
   "source": [
    "# Question no 4.\n",
    "def favorite_book(title):\n",
    "    print(title + \" is one of my favorite books.\")\n",
    "\n",
    "favorite_book(input(\"favorite book: \"))"
   ]
  },
  {
   "cell_type": "code",
   "execution_count": 45,
   "metadata": {},
   "outputs": [
    {
     "name": "stdout",
     "output_type": "stream",
     "text": [
      "Hello What is your name?\n",
      "Hassan\n",
      "Number I am thinking of is between 1 to 30 Hassan\n",
      "Take a Guess.\n",
      "3\n",
      "Number is too low\n",
      "Take a Guess.\n",
      "6\n",
      "Number is too low\n",
      "Take a Guess.\n",
      "10\n",
      "Number is too high\n",
      "Wronge Unlucky, The number was: 7\n"
     ]
    }
   ],
   "source": [
    "# Question no 5.\n",
    "import random\n",
    "numOfGuesses = 0\n",
    "print(\"Hello What is your name?\")\n",
    "name = input()\n",
    "number = random.randint(1, 30)\n",
    "print(f\"Number I am thinking of is between 1 to 30 {name}\")\n",
    "while numOfGuesses < 3:\n",
    "    print(\"Take a Guess.\")\n",
    "    guess = int(input())\n",
    "    numOfGuesses = numOfGuesses + 1\n",
    "    if guess < number:\n",
    "        print (\"Number is too low\")\n",
    "    elif guess > number:\n",
    "        print (\"Number is too high\")\n",
    "    elif guess == number:\n",
    "        break\n",
    "if guess == number:\n",
    "    numOfGuesses = str(numOfGuesses)\n",
    "    print(f\"Welldone {name} you guessed the number in {numOfGuesses}\")\n",
    "elif guess != number:\n",
    "    number = str(number)\n",
    "    print (f\"Wronge Unlucky, The number was: {number}\")\n",
    "else:\n",
    "    print(\"Enter number between 1 to 30\")\n",
    "      "
   ]
  },
  {
   "cell_type": "code",
   "execution_count": null,
   "metadata": {},
   "outputs": [],
   "source": []
  }
 ],
 "metadata": {
  "kernelspec": {
   "display_name": "Python 3",
   "language": "python",
   "name": "python3"
  },
  "language_info": {
   "codemirror_mode": {
    "name": "ipython",
    "version": 3
   },
   "file_extension": ".py",
   "mimetype": "text/x-python",
   "name": "python",
   "nbconvert_exporter": "python",
   "pygments_lexer": "ipython3",
   "version": "3.7.4"
  }
 },
 "nbformat": 4,
 "nbformat_minor": 2
}
