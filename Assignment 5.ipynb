{
 "cells": [
  {
   "cell_type": "code",
   "execution_count": 1,
   "metadata": {},
   "outputs": [
    {
     "name": "stdout",
     "output_type": "stream",
     "text": [
      "Enter number : 10\n",
      "3628800\n"
     ]
    }
   ],
   "source": [
    "# Question # 1\n",
    "\n",
    "def factorial(number):\n",
    "    if number == 0:\n",
    "        return 1\n",
    "    else:\n",
    "        return number * factorial(number-1)\n",
    "number = int(input(\"Enter number : \"))\n",
    "print(factorial(number))"
   ]
  },
  {
   "cell_type": "code",
   "execution_count": 2,
   "metadata": {},
   "outputs": [
    {
     "name": "stdout",
     "output_type": "stream",
     "text": [
      "Enter your sentence: My name is Hassan Mujtaba\n",
      "Original String :  My name is Hassan Mujtaba\n",
      "No. of Upper case characters :  3\n",
      "No. of Lower case Characters :  18\n"
     ]
    }
   ],
   "source": [
    "# Question # 2\n",
    "\n",
    "def string_test(s):\n",
    "    d={\"UPPER_CASE\":0, \"LOWER_CASE\":0}\n",
    "    for c in s:\n",
    "        if c.isupper():\n",
    "           d[\"UPPER_CASE\"]+=1\n",
    "        elif c.islower():\n",
    "           d[\"LOWER_CASE\"]+=1\n",
    "        else:\n",
    "           pass\n",
    "    print (\"Original String : \", s)\n",
    "    print (\"No. of Upper case characters : \", d[\"UPPER_CASE\"])\n",
    "    print (\"No. of Lower case Characters : \", d[\"LOWER_CASE\"])\n",
    "Input = input(\"Enter your sentence: \")\n",
    "string_test(Input)\n"
   ]
  },
  {
   "cell_type": "code",
   "execution_count": 3,
   "metadata": {},
   "outputs": [
    {
     "name": "stdout",
     "output_type": "stream",
     "text": [
      "[2, 4, 6, 8, 10]\n"
     ]
    }
   ],
   "source": [
    "# Question # 3\n",
    "\n",
    "def is_even_num(l):\n",
    "    evenNum = []\n",
    "    for n in l:\n",
    "        if n % 2 == 0:\n",
    "            evenNum.append(n)\n",
    "    return evenNum\n",
    "print(is_even_num([1, 2, 3, 4, 5, 6, 7, 8, 9, 10]))\n"
   ]
  },
  {
   "cell_type": "code",
   "execution_count": 4,
   "metadata": {},
   "outputs": [
    {
     "name": "stdout",
     "output_type": "stream",
     "text": [
      "False\n"
     ]
    }
   ],
   "source": [
    "# Question # 4\n",
    "\n",
    "def isPalindrome(string):\n",
    "    left_pos = 0\n",
    "    right_pos = len(string) - 1\n",
    "    \n",
    "    while right_pos >= left_pos:\n",
    "        if not string[left_pos] == string[right_pos]:\n",
    "            return False\n",
    "        left_pos += 1\n",
    "        right_pos -= 1\n",
    "    return True\n",
    "print(isPalindrome('Hassan')) \n"
   ]
  },
  {
   "cell_type": "code",
   "execution_count": 5,
   "metadata": {},
   "outputs": [
    {
     "name": "stdout",
     "output_type": "stream",
     "text": [
      "Enter number: 10\n",
      "False\n"
     ]
    }
   ],
   "source": [
    "# Question # 5\n",
    "n = int(input(\"Enter number: \"))\n",
    "def test_prime(n):\n",
    "    if (n==1):\n",
    "        return False\n",
    "    elif (n==2):\n",
    "        return True;\n",
    "    else:\n",
    "        for x in range(2,n):\n",
    "            if(n % x==0):\n",
    "                return False\n",
    "        return True             \n",
    "print(test_prime(n))\n"
   ]
  },
  {
   "cell_type": "code",
   "execution_count": 6,
   "metadata": {},
   "outputs": [
    {
     "name": "stdout",
     "output_type": "stream",
     "text": [
      "----------------------\n",
      "     SHOPPING LIST\n",
      "----------------------\n",
      "\n",
      "Items in our list: \n",
      "Want to add items in your list? yes or no: yes\n",
      "Enter your Items: Milk\n",
      "Items in our list: \n",
      "----------------------\n",
      "     LIST ITEMS\n",
      "----------------------\n",
      "\n",
      "['Milk']\n",
      "Want to add items in your list? yes or no: yes\n",
      "Enter your Items: Butter\n",
      "Items in our list: \n",
      "----------------------\n",
      "     LIST ITEMS\n",
      "----------------------\n",
      "\n",
      "['Milk', 'Butter']\n",
      "----------------------\n",
      "     LIST ITEMS\n",
      "----------------------\n",
      "\n",
      "['Milk', 'Butter']\n",
      "Want to add items in your list? yes or no: no\n",
      "None\n"
     ]
    }
   ],
   "source": [
    "# Question no. 6\n",
    "\n",
    "print(\"----------------------\\n     SHOPPING LIST\\n----------------------\\n\")\n",
    "listItems = []\n",
    "def shopList(listItems):\n",
    "    while True:\n",
    "        print(\"Items in our list: \")\n",
    "        for item in listItems:\n",
    "            print(\"----------------------\\n     LIST ITEMS\\n----------------------\\n\")\n",
    "            print(listItems)\n",
    "        inp = input(\"Want to add items in your list? yes or no: \")\n",
    "    \n",
    "        if inp == \"yes\":\n",
    "            listItems.append(input(\"Enter your Items: \"))\n",
    "        elif inp == \"no\":\n",
    "            break\n",
    "        else:\n",
    "            print(\"Invalid Input\")\n",
    "print(shopList(listItems))"
   ]
  },
  {
   "cell_type": "code",
   "execution_count": null,
   "metadata": {},
   "outputs": [],
   "source": []
  }
 ],
 "metadata": {
  "kernelspec": {
   "display_name": "Python 3",
   "language": "python",
   "name": "python3"
  },
  "language_info": {
   "codemirror_mode": {
    "name": "ipython",
    "version": 3
   },
   "file_extension": ".py",
   "mimetype": "text/x-python",
   "name": "python",
   "nbconvert_exporter": "python",
   "pygments_lexer": "ipython3",
   "version": "3.7.4"
  }
 },
 "nbformat": 4,
 "nbformat_minor": 2
}
