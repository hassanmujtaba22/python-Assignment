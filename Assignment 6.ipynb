{
 "cells": [
  {
   "cell_type": "code",
   "execution_count": 1,
   "metadata": {},
   "outputs": [
    {
     "name": "stdout",
     "output_type": "stream",
     "text": [
      "Object-oriented programming (OOP) is a programming language model in which programs are organized around data, or objects, rather than functions and logic. An object can be defined as a data field that has unique attributes and behavior. Examples of an object can range from physical entities, such as a human being that is described by properties like name and address, down to small computer programs, such as widgets. This opposes the historical approach to programming where emphasis was placed on how the logic was written rather than how to define the data within the logic.\n"
     ]
    }
   ],
   "source": [
    "# Question no. 1\n",
    "print(\"Object-oriented programming (OOP) is a programming language model in which programs are organized around data, or objects, rather than functions and logic. An object can be defined as a data field that has unique attributes and behavior. Examples of an object can range from physical entities, such as a human being that is described by properties like name and address, down to small computer programs, such as widgets. This opposes the historical approach to programming where emphasis was placed on how the logic was written rather than how to define the data within the logic.\")"
   ]
  },
  {
   "cell_type": "code",
   "execution_count": 5,
   "metadata": {},
   "outputs": [
    {
     "name": "stdout",
     "output_type": "stream",
     "text": [
      "--------------\n",
      " LIST OF OOP.\n",
      "-------------- \n",
      " 1. Re-usability.\n",
      " 2. Data Redundancy.\n",
      " 3. Code Maintenance.\n",
      " 4. Security.\n",
      " 5. Design Benefits.\n",
      " 6. Better productivity.\n",
      " 7. Easy troubleshooting.\n",
      " 8. Polymorphism Flexibility.\n",
      " 9. Problems solving.\n"
     ]
    }
   ],
   "source": [
    "# Question no. 2\n",
    "print(\"--------------\\n LIST OF OOP.\\n-------------- \\n 1. Re-usability.\\n 2. Data Redundancy.\\n 3. Code Maintenance.\\n 4. Security.\\n 5. Design Benefits.\\n 6. Better productivity.\\n 7. Easy troubleshooting.\\n 8. Polymorphism Flexibility.\\n 9. Problems solving.\")"
   ]
  },
  {
   "cell_type": "code",
   "execution_count": 9,
   "metadata": {},
   "outputs": [
    {
     "name": "stdout",
     "output_type": "stream",
     "text": [
      "-------------------    \n",
      "       Function\n",
      "------------------\n",
      "A function is a piece of code that is called by name. It can be passed data to operate on (i.e. the parameters) and can optionally return data (the return value). All data that is passed to a function is explicitly passed.\n",
      "\n",
      "-------------------    \n",
      "       Method\n",
      "------------------\n",
      "A method is a piece of code that is called by a name that is associated with an object. In most respects it is identical to a function except for two key differences:\n",
      "1 . A method is implicitly passed the object on which it was called.\n",
      "2 . A method is able to operate on data that is contained within the class (remembering that an object is an instance of a class - the class is the definition, the object is an instance of that data)\n"
     ]
    }
   ],
   "source": [
    "#Question no. 3 \n",
    "print(\"-------------------    \\n       Function\\n------------------\")\n",
    "print(\"A function is a piece of code that is called by name. It can be passed data to operate on (i.e. the parameters) and can optionally return data (the return value). All data that is passed to a function is explicitly passed.\\n\")\n",
    "print(\"-------------------    \\n       Method\\n------------------\")\n",
    "print(\"A method is a piece of code that is called by a name that is associated with an object. In most respects it is identical to a function except for two key differences:\\n1 . A method is implicitly passed the object on which it was called.\\n2 . A method is able to operate on data that is contained within the class (remembering that an object is an instance of a class - the class is the definition, the object is an instance of that data)\")"
   ]
  },
  {
   "cell_type": "code",
   "execution_count": 10,
   "metadata": {},
   "outputs": [
    {
     "name": "stdout",
     "output_type": "stream",
     "text": [
      "-------------------\n",
      "       Class\n",
      "------------------\n",
      "A class is an entity that determines how an object will behave and what the object will contain. In other words, it is a blueprint or a set of instruction to build a specific type of object\n",
      "-------------------\n",
      "       Object\n",
      "------------------\n",
      "An object is nothing but a self-contained component which consists of methods and properties to make a particular type of data useful. Object determines the behavior of the class. When you send a message to an object, you are asking the object to invoke or execute one of its methods.\n",
      "-------------------\n",
      "       Attribute\n",
      "------------------\n",
      "In Object-oriented programming(OOP), classes and objects have attributes. Attributes are data stored inside a class or instance and represent the state or quality of the class or instance. In short, attributes store information about the instance. Also, attributes should not be confused with class functions also known as methods. One can think of attributes as noun or adjective, while methods are the verb of the class.\n",
      "-------------------\n",
      "       Behavior\n",
      "------------------\n",
      "In Behavior-oriented programming(Opp), behavior is the any hobby is person is called behavior\n"
     ]
    }
   ],
   "source": [
    "# Question no. 4 \n",
    "print(\"-------------------\\n       Class\\n------------------\")\n",
    "print(\"A class is an entity that determines how an object will behave and what the object will contain. In other words, it is a blueprint or a set of instruction to build a specific type of object\")\n",
    "\n",
    "print(\"-------------------\\n       Object\\n------------------\")\n",
    "print(\"An object is nothing but a self-contained component which consists of methods and properties to make a particular type of data useful. Object determines the behavior of the class. When you send a message to an object, you are asking the object to invoke or execute one of its methods.\")\n",
    "print(\"-------------------\\n       Attribute\\n------------------\")\n",
    "print(\"In Object-oriented programming(OOP), classes and objects have attributes. Attributes are data stored inside a class or instance and represent the state or quality of the class or instance. In short, attributes store information about the instance. Also, attributes should not be confused with class functions also known as methods. One can think of attributes as noun or adjective, while methods are the verb of the class.\")\n",
    "print(\"-------------------\\n       Behavior\\n------------------\")\n",
    "print(\"In Behavior-oriented programming(Opp), behavior is the any hobby is person is called behavior\")"
   ]
  },
  {
   "cell_type": "code",
   "execution_count": 26,
   "metadata": {},
   "outputs": [
    {
     "name": "stdout",
     "output_type": "stream",
     "text": [
      "<__main__.Car object at 0x000001611F36D208>\n",
      "Honda City\n",
      "2019\n",
      "Red\n",
      "Automatic\n",
      "170kmph\n",
      "\n",
      "Updated Values\n",
      "*****************\n",
      "Honda City\n",
      "2020\n",
      "Black\n",
      "Automatic\n",
      "200kmph\n"
     ]
    }
   ],
   "source": [
    "class Car():\n",
    "    def __init__(self,name,model,color,feature,speed):\n",
    "        self.name = name\n",
    "        self.model = model\n",
    "        self.color = color\n",
    "        self.feature = feature\n",
    "        self.speed = speed\n",
    "\n",
    "        \n",
    "    def updateColor(self,updatecolor):\n",
    "        self.color = updatecolor\n",
    "    def updateModel(self,updatemodel):\n",
    "        self.model += updatemodel\n",
    "    def updateSpeed(self,updatespeed):\n",
    "        self.speed = updatespeed\n",
    "        \n",
    "costumer1 =  Car(\"Honda City\", 2019, \"Red\", \"Automatic\", \"170kmph\")\n",
    "print(costumer1)\n",
    "print(costumer1.name)\n",
    "print(costumer1.model)\n",
    "print(costumer1.color)\n",
    "print(costumer1.feature)\n",
    "print(costumer1.speed)\n",
    "print(\"\\nUpdated Values\\n*****************\")\n",
    "costumer1.updateColor(\"Black\")\n",
    "costumer1.updateModel(1)\n",
    "costumer1.updateSpeed(\"200kmph\")\n",
    "print(costumer1.name)\n",
    "print(costumer1.model)\n",
    "print(costumer1.color)\n",
    "print(costumer1.feature)\n",
    "print(costumer1.speed)"
   ]
  }
 ],
 "metadata": {
  "kernelspec": {
   "display_name": "Python 3",
   "language": "python",
   "name": "python3"
  },
  "language_info": {
   "codemirror_mode": {
    "name": "ipython",
    "version": 3
   },
   "file_extension": ".py",
   "mimetype": "text/x-python",
   "name": "python",
   "nbconvert_exporter": "python",
   "pygments_lexer": "ipython3",
   "version": "3.7.4"
  }
 },
 "nbformat": 4,
 "nbformat_minor": 2
}
