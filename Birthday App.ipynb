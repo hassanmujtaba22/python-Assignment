{
 "cells": [
  {
   "cell_type": "code",
   "execution_count": null,
   "metadata": {},
   "outputs": [
    {
     "name": "stdout",
     "output_type": "stream",
     "text": [
      "--------------BIRTHDAY REMINDER APP --------------\n",
      "\n",
      "1. SHOW BIRTHDAY\n",
      "2. SHOW ALL BIRTHDAYS\n",
      "3. ADD BIRTHDAY\n",
      "4. REMOVE BIRTHDAY\n",
      "5. EXIT\n",
      "\n",
      "PLEASE SELECT: 3\n",
      "\n",
      "\n",
      "Enter name to add birthday: Hassan Mujtaba\n",
      "Enter birthday: 22/16/2000\n",
      "Birthday Added\n",
      "--------------BIRTHDAY REMINDER APP --------------\n",
      "\n",
      "1. SHOW BIRTHDAY\n",
      "2. SHOW ALL BIRTHDAYS\n",
      "3. ADD BIRTHDAY\n",
      "4. REMOVE BIRTHDAY\n",
      "5. EXIT\n",
      "\n",
      "PLEASE SELECT: 2\n"
     ]
    }
   ],
   "source": [
    "dic = {}\n",
    "while True:\n",
    "    print(\"--------------BIRTHDAY REMINDER APP --------------\\n\")\n",
    "    print(\"1. SHOW BIRTHDAY\")\n",
    "    print(\"2. SHOW ALL BIRTHDAYS\")\n",
    "    print(\"3. ADD BIRTHDAY\")\n",
    "    print(\"4. REMOVE BIRTHDAY\")\n",
    "    print(\"5. EXIT\\n\")\n",
    "    select = int(input(\"PLEASE SELECT: \"))\n",
    "    print(\"\\n\")\n",
    "    if select == 1:\n",
    "        if len(dic.keys()) == 0:\n",
    "            print(\"Nothing\")\n",
    "        else:\n",
    "            name = input(\"Enter name to find birthday: \")\n",
    "            name = name.title()\n",
    "            birthday = dic.get(name, \"No data found\")\n",
    "            print(birthday)\n",
    "    elif select == 2:\n",
    "        for akey, avalue in dic.items():\n",
    "            print(akey + \" \" + avalue)\n",
    "    elif select == 3:\n",
    "        name = input(\"Enter name to add birthday: \")\n",
    "        name = name.title()\n",
    "        date = input(\"Enter birthday: \")\n",
    "        dic[name] = date\n",
    "        print(\"Birthday Added\")\n",
    "    elif select == 4:\n",
    "        name = input(\"Enter name to delete birthday: \")\n",
    "        name = name.title()\n",
    "        del dic[name]\n",
    "        print(\"Deleted\")\n",
    "    elif select == 5:\n",
    "        break\n",
    "    else:\n",
    "        print(\"Enter valid number!\")"
   ]
  },
  {
   "cell_type": "code",
   "execution_count": null,
   "metadata": {},
   "outputs": [],
   "source": []
  }
 ],
 "metadata": {
  "kernelspec": {
   "display_name": "Python 3",
   "language": "python",
   "name": "python3"
  },
  "language_info": {
   "codemirror_mode": {
    "name": "ipython",
    "version": 3
   },
   "file_extension": ".py",
   "mimetype": "text/x-python",
   "name": "python",
   "nbconvert_exporter": "python",
   "pygments_lexer": "ipython3",
   "version": "3.7.4"
  }
 },
 "nbformat": 4,
 "nbformat_minor": 2
}
