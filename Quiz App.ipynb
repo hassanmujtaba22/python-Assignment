{
 "cells": [
  {
   "cell_type": "code",
   "execution_count": 1,
   "metadata": {},
   "outputs": [
    {
     "name": "stdout",
     "output_type": "stream",
     "text": [
      "1:What is your city name? \n",
      "Please write your Answers\n",
      "Karachi,Lahore,Islamabad,Punjab\n",
      "karachi\n",
      "\n",
      "\n",
      "2:What is your country name? \n",
      "Please write your Answers\n",
      "Pakistan,Dubai,England,USA\n",
      "pakistan\n",
      "\n",
      "\n",
      "3:Who is the founder of Pakistan? \n",
      "Please write your Answers\n",
      "Sir Syed Ahmed Khan,Quaid e Azam,Allama Iqbal,Nawaz Sharif\n",
      "quaid e azam\n",
      "\n",
      "\n",
      "Your score is 3\n",
      "Your Persentage is 100.0%\n",
      "A+1\n"
     ]
    }
   ],
   "source": [
    "questions = [\n",
    "    {\n",
    "        \"S.no\": 1,\n",
    "        \"Question\": \"What is your city name? \",\n",
    "        \"Options\": [\"Karachi\", \"Lahore\", \"Islamabad\", \"Punjab\"],\n",
    "        \"Answer\": \"Karachi\"\n",
    "    },\n",
    "    {\n",
    "        \"S.no\": 2,\n",
    "        \"Question\": \"What is your country name? \",\n",
    "        \"Options\": [\"Pakistan\", \"Dubai\", \"England\", \"USA\"],\n",
    "        \"Answer\": \"Pakistan\"\n",
    "    },\n",
    "    {\n",
    "        \"S.no\": 3,\n",
    "        \"Question\": \"Who is the founder of Pakistan? \",\n",
    "        \"Options\": [\"Sir Syed Ahmed Khan\", \"Quaid e Azam\", \"Allama Iqbal\", \"Nawaz Sharif\"],\n",
    "        \"Answer\": \"Quaid E Azam\"\n",
    "    }\n",
    "]\n",
    "score = 0\n",
    "for question in questions:\n",
    "    data = str(question[\"S.no\"]) + \":\" + question[\"Question\"] + \"\\nPlease write your Answers\\n\" + question[\"Options\"][0] + \",\" + question[\"Options\"][1] + \",\" + question[\"Options\"][2] + \",\" + question[\"Options\"][3] + \"\\n\" \n",
    "    answer = input(data)\n",
    "    answer = answer.title()\n",
    "    print(\"\\n\")\n",
    "    if answer == question[\"Answer\"]:\n",
    "        score += 1\n",
    "print(\"Your score is \" + str(score))\n",
    "\n",
    "totalScore = 3\n",
    "obtainScore = score\n",
    "per = (obtainScore / totalScore) * 100\n",
    "per = float(per)\n",
    "print(\"Your Persentage is \" + str(per) + \"%\")\n",
    "\n",
    "if per == 100:\n",
    "    print(\"A+1\")\n",
    "elif per >= 90 and per <= 99:\n",
    "    print(\"A\")\n",
    "elif per >= 80 and per <= 90:\n",
    "    print(\"B\")\n",
    "elif per >= 70 and per <= 80:\n",
    "    print(\"C\")\n"
   ]
  },
  {
   "cell_type": "code",
   "execution_count": null,
   "metadata": {},
   "outputs": [],
   "source": []
  }
 ],
 "metadata": {
  "kernelspec": {
   "display_name": "Python 3",
   "language": "python",
   "name": "python3"
  },
  "language_info": {
   "codemirror_mode": {
    "name": "ipython",
    "version": 3
   },
   "file_extension": ".py",
   "mimetype": "text/x-python",
   "name": "python",
   "nbconvert_exporter": "python",
   "pygments_lexer": "ipython3",
   "version": "3.7.4"
  }
 },
 "nbformat": 4,
 "nbformat_minor": 2
}
